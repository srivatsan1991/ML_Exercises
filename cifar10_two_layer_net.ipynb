{
  "nbformat": 4,
  "nbformat_minor": 0,
  "metadata": {
    "colab": {
      "name": "cifar10_two_layer_net.ipynb",
      "provenance": [],
      "collapsed_sections": [],
      "authorship_tag": "ABX9TyO3LaRpptmS2fbX8GrgWBi8",
      "include_colab_link": true
    },
    "kernelspec": {
      "name": "python3",
      "display_name": "Python 3"
    }
  },
  "cells": [
    {
      "cell_type": "markdown",
      "metadata": {
        "id": "view-in-github",
        "colab_type": "text"
      },
      "source": [
        "<a href=\"https://colab.research.google.com/github/srivatsan1991/ML_Exercises/blob/master/cifar10_two_layer_net.ipynb\" target=\"_parent\"><img src=\"https://colab.research.google.com/assets/colab-badge.svg\" alt=\"Open In Colab\"/></a>"
      ]
    },
    {
      "cell_type": "markdown",
      "metadata": {
        "id": "QgMez82sxzy2"
      },
      "source": [
        "## Cifar10 classification with a two layer neural net and softmax loss\n",
        "\n",
        "In this notebook, we implement (from scratch, i.e., only using numpy), a simple 2-layer neural net model with ReLU activation and softmax loss function. We train the model using stochastic gradient descent, and then perform hyperparameter tuning. We see that the best two layer neural net model performs with about 48% accuracy on CIFAR-10."
      ]
    },
    {
      "cell_type": "code",
      "metadata": {
        "id": "DqZAzhI3zxoe"
      },
      "source": [
        "from tensorflow.keras.datasets.cifar10 import load_data\n",
        "import random\n",
        "import numpy as np\n",
        "import matplotlib.pyplot as plt\n",
        "\n",
        "# This is a bit of magic to make matplotlib figures appear inline in the notebook rather than in a new window.\n",
        "%matplotlib inline\n",
        "plt.rcParams['figure.figsize'] = (10.0, 8.0) # set default size of plots\n",
        "plt.rcParams['image.interpolation'] = 'nearest'\n",
        "plt.rcParams['image.cmap'] = 'gray'\n",
        "\n",
        "# Some more magic so that the notebook will reload external python modules; see http://stackoverflow.com/questions/1907993/autoreload-of-modules-in-ipython\n",
        "%load_ext autoreload\n",
        "%autoreload 2"
      ],
      "execution_count": 3,
      "outputs": []
    },
    {
      "cell_type": "code",
      "metadata": {
        "id": "6vzbkx4opRVt"
      },
      "source": [
        "def rel_error(x, y):\n",
        "    \"\"\" returns relative error \"\"\"\n",
        "    return np.max(np.abs(x - y) / (np.maximum(1e-8, np.abs(x) + np.abs(y))))"
      ],
      "execution_count": 4,
      "outputs": []
    },
    {
      "cell_type": "markdown",
      "metadata": {
        "id": "QKv6ghmDrsA6"
      },
      "source": [
        "# **Two Layer Net:**\n",
        "We implement a two layer neural network which has input dimension $D$, hidden dimension $H$ and performs classification over $C$ classes. We train with softmax loss + L2 regularization on weight matrices. Thus schematically, we have\n",
        "\n",
        "`input - fully connected layer - ReLU - fully connected layer - softmax`.\n",
        "\n"
      ]
    },
    {
      "cell_type": "code",
      "metadata": {
        "id": "Xenmk95trFuI"
      },
      "source": [
        "class TwoLayerNet(object):\n",
        "    \"\"\"\n",
        "    input - fully connected layer - ReLU - fully connected layer - softmax\n",
        "\n",
        "    The outputs of the second fully-connected layer are the scores for each class.\n",
        "    \"\"\"\n",
        "\n",
        "    def __init__(self, input_size, hidden_size, output_size, std=1e-4):\n",
        "        \"\"\"\n",
        "        Weights are initialized to small random values and biases are initialized to zero.\n",
        "        Weights and biases are stored in the variable self.params, which is a dictionary with the following keys:\n",
        "        W1 (shape:(D,H), first layer weights), b1 (shape:(H,), first layer biases), \n",
        "        W2 (shape:(H,C), second layer weights), b2 (shape:(C,), second layer biases), \n",
        "        \"\"\"\n",
        "        self.params = {}\n",
        "        self.params['W1'] = std * np.random.randn(input_size, hidden_size)\n",
        "        self.params['b1'] = np.zeros(hidden_size)\n",
        "        self.params['W2'] = std * np.random.randn(hidden_size, output_size)\n",
        "        self.params['b2'] = np.zeros(output_size)\n",
        "\n",
        "    def loss(self, X, y=None, reg=0.0):\n",
        "        \"\"\"\n",
        "        computes loss and gradient of 2 layer NN, in a fully vectorized manner.\n",
        "\n",
        "        Inputs:\n",
        "        - X: Input data of shape (N, D). Each X[i] is a training sample.\n",
        "        - y: Vector of training labels. y[i] is the label for X[i], and each y[i] is\n",
        "          an integer in the range 0 <= y[i] < C. This parameter is optional; if it\n",
        "          is not passed then we only return scores, and if it is passed then we\n",
        "          instead return the loss and gradients.\n",
        "        - reg: Regularization strength.\n",
        "\n",
        "        Returns:\n",
        "        If y is None, return a matrix scores of shape (N, C) where scores[i, c] is\n",
        "        the score for class c on input X[i].\n",
        "\n",
        "        If y is not None, instead return a tuple of:\n",
        "        - loss: Loss (data loss and regularization loss) for this batch of training\n",
        "          samples.\n",
        "        - grads: Dictionary mapping parameter names to gradients of those parameters\n",
        "          with respect to the loss function; has the same keys as self.params.\n",
        "        \"\"\"\n",
        "        # Unpack variables from the params dictionary\n",
        "        W1, b1 = self.params['W1'], self.params['b1']\n",
        "        W2, b2 = self.params['W2'], self.params['b2']\n",
        "        N, D = X.shape\n",
        "\n",
        "        # Compute the forward pass\n",
        "\n",
        "        #############################################################################\n",
        "        # Compute class scores for the input. #\n",
        "        # Store the result in the scores variable, which should be an array of      #\n",
        "        # shape (N, C).                                                             #\n",
        "        #############################################################################\n",
        "        firstlayer = np.maximum(np.dot(X, W1) + b1, 0)\n",
        "        scores = np.dot(firstlayer, W2) + b2\n",
        "        flmask = np.copy(firstlayer)\n",
        "        flmask[flmask > 1e-8] = 1\n",
        "\n",
        "        # If the targets are not given then jump out, we're done\n",
        "        if y is None:\n",
        "            return scores\n",
        "\n",
        "        # Compute the loss\n",
        "        \n",
        "        #############################################################################\n",
        "        # Compute loss and grad, using softmax classifier loss and L2 reg           #\n",
        "        #############################################################################\n",
        "\n",
        "        maxscores = np.max(scores, axis=1).reshape(N, 1)\n",
        "        scores = np.subtract(scores, maxscores)\n",
        "        \n",
        "        correctscoresum = np.sum(np.array([scores[i, y[i]] for i in range(N)]))\n",
        "        \n",
        "        Z = np.sum(np.exp(scores), axis=1)\n",
        "        \n",
        "        loss = (np.sum(np.log(np.sum(np.exp(scores), axis=1))) - correctscoresum)/N\n",
        "        loss += reg * np.sum(W1 * W1)\n",
        "        loss += reg * np.sum(W2 * W2)\n",
        "        \n",
        "        # Backward pass: compute gradients\n",
        "        grads = {}\n",
        "    \n",
        "        # first compute gradient of loss wrt scores\n",
        "        gradscores = np.exp(scores)/(Z.reshape(N,1))\n",
        "        for I in range(N):\n",
        "            gradscores[I, y[I]] -= 1\n",
        "        gradscores /= N\n",
        "\n",
        "        #now compute gradient of scores[I,i] wrt x=(b2,W2,b1,W1) \n",
        "        #and then multiply with gradscores to get gradient of loss wrt x\n",
        "        \n",
        "        grads['b2'] = np.sum(gradscores, axis = 0)\n",
        "        grads['W2'] = np.dot(firstlayer.T, gradscores) + 2 * reg * W2\n",
        "        grads['b1'] = np.sum(np.dot(gradscores, W2.T) * flmask, axis = 0)\n",
        "        grads['W1'] = np.dot(X.T,  np.dot(gradscores, W2.T) * flmask) + 2 * reg * W1\n",
        "        \n",
        "        return loss, grads\n",
        "\n",
        "    def train(self, X, y, X_val, y_val,\n",
        "              learning_rate=1e-3, learning_rate_decay=0.95,\n",
        "              reg=5e-6, num_iters=100,\n",
        "              batch_size=200, verbose=False):\n",
        "        \"\"\"\n",
        "        Train this neural network using stochastic gradient descent.\n",
        "\n",
        "        Inputs:\n",
        "        - X: A numpy array of shape (N, D) giving training data.\n",
        "        - y: A numpy array f shape (N,) giving training labels; y[i] = c means that\n",
        "          X[i] has label c, where 0 <= c < C.\n",
        "        - X_val: A numpy array of shape (N_val, D) giving validation data.\n",
        "        - y_val: A numpy array of shape (N_val,) giving validation labels.\n",
        "        - learning_rate: Scalar giving learning rate for optimization.\n",
        "        - learning_rate_decay: Scalar giving factor used to decay the learning rate\n",
        "          after each epoch.\n",
        "        - reg: Scalar giving regularization strength.\n",
        "        - num_iters: Number of steps to take when optimizing.\n",
        "        - batch_size: Number of training examples to use per step.\n",
        "        - verbose: boolean; if true print progress during optimization.\n",
        "        \"\"\"\n",
        "        num_train = X.shape[0]\n",
        "        iterations_per_epoch = max(num_train / batch_size, 1)\n",
        "\n",
        "        # Use SGD to optimize the parameters in self.model\n",
        "        loss_history = []\n",
        "        train_acc_history = []\n",
        "        val_acc_history = []\n",
        "\n",
        "        for it in range(num_iters):\n",
        "            X_batch = None\n",
        "            y_batch = None\n",
        "\n",
        "            #########################################################################\n",
        "            # we create a random minibatch of training data and labels, storing     #\n",
        "            # them in X_batch and y_batch respectively.                             #\n",
        "            #########################################################################\n",
        "            batch_ind = np.random.choice(num_train, batch_size)\n",
        "            X_batch = X[batch_ind, :]\n",
        "            y_batch = y[batch_ind]\n",
        "            \n",
        "            # Compute loss and gradients using the current minibatch\n",
        "            loss, grads = self.loss(X_batch, y=y_batch, reg=reg)\n",
        "            loss_history.append(loss)\n",
        "\n",
        "            #########################################################################\n",
        "            # we use the gradients in the grads dictionary to update the            #\n",
        "            # parameters of the network (stored in the dictionary self.params)      #\n",
        "            # using stochastic gradient descent. You'll need to use the gradients   #\n",
        "            # stored in the grads dictionary defined above.                         #\n",
        "            #########################################################################\n",
        "\n",
        "            for param_name  in self.params:\n",
        "                self.params[param_name] -= learning_rate * grads[param_name]\n",
        "            \n",
        "            if verbose and it % 100 == 0:\n",
        "                print('iteration %d / %d: loss %f' % (it, num_iters, loss))\n",
        "\n",
        "            # Every epoch, check train and val accuracy and decay learning rate.\n",
        "            if it % iterations_per_epoch == 0:\n",
        "                # Check accuracy\n",
        "                train_acc = (self.predict(X_batch) == y_batch).mean()\n",
        "                val_acc = (self.predict(X_val) == y_val).mean()\n",
        "                train_acc_history.append(train_acc)\n",
        "                val_acc_history.append(val_acc)\n",
        "\n",
        "                # Decay learning rate\n",
        "                learning_rate *= learning_rate_decay\n",
        "\n",
        "        return {\n",
        "          'loss_history': loss_history,\n",
        "          'train_acc_history': train_acc_history,\n",
        "          'val_acc_history': val_acc_history,\n",
        "        }\n",
        "\n",
        "    def predict(self, X):\n",
        "        \"\"\"\n",
        "        Use the trained weights of this two-layer network to predict labels for\n",
        "        data points. For each data point we predict scores for each of the C\n",
        "        classes, and assign each data point to the class with the highest score.\n",
        "\n",
        "        Inputs:\n",
        "        - X: A numpy array of shape (N, D) giving N D-dimensional data points to\n",
        "          classify.\n",
        "\n",
        "        Returns:\n",
        "        - y_pred: A numpy array of shape (N,) giving predicted labels for each of\n",
        "          the elements of X. For all i, y_pred[i] = c means that X[i] is predicted\n",
        "          to have class c, where 0 <= c < C.\n",
        "        \"\"\"\n",
        "        y_pred = np.argmax(np.dot(np.maximum(np.dot(X, self.params['W1']) + self.params['b1'], 0), self.params['W2']) + self.params['b2'], axis = 1)\n",
        "\n",
        "        return y_pred"
      ],
      "execution_count": 5,
      "outputs": []
    },
    {
      "cell_type": "markdown",
      "metadata": {
        "id": "ue6KGzWgwC3e"
      },
      "source": [
        "## Load data:"
      ]
    },
    {
      "cell_type": "code",
      "metadata": {
        "colab": {
          "base_uri": "https://localhost:8080/"
        },
        "id": "kUIjE3-pwJuZ",
        "outputId": "7342f94f-20eb-4fdd-8c05-e3975a436204"
      },
      "source": [
        "def get_CIFAR10_data(num_training=49000, num_validation=1000, num_test=1000):\n",
        "    \"\"\"\n",
        "    Load the CIFAR-10 dataset from disk and perform preprocessing to prepare\n",
        "    it for the two-layer neural net classifier. These are the same steps as\n",
        "    we used for the SVM, but condensed to a single function.  \n",
        "    \"\"\"\n",
        "    # Load the raw CIFAR-10 data\n",
        "    cifar10_dir = 'cs231n/datasets/cifar-10-batches-py'\n",
        "    \n",
        "    # Cleaning up variables to prevent loading data multiple times (which may cause memory issue)\n",
        "    try:\n",
        "       del X_train, y_train\n",
        "       del X_test, y_test\n",
        "       print('Clear previously loaded data.')\n",
        "    except:\n",
        "       pass\n",
        "\n",
        "    (X_train, y_train), (X_test, y_test) = load_data()\n",
        "    X_train = X_train.astype('float64')\n",
        "    X_test = X_test.astype('float64')\n",
        "    y_train = y_train.reshape(-1)\n",
        "    y_test = y_test.reshape(-1)\n",
        "\n",
        "    # Subsample the data\n",
        "    mask = list(range(num_training, num_training + num_validation))\n",
        "    X_val = X_train[mask]\n",
        "    y_val = y_train[mask]\n",
        "    mask = list(range(num_training))\n",
        "    X_train = X_train[mask]\n",
        "    y_train = y_train[mask]\n",
        "    mask = list(range(num_test))\n",
        "    X_test = X_test[mask]\n",
        "    y_test = y_test[mask]\n",
        "\n",
        "    # Normalize the data: subtract the mean image\n",
        "    mean_image = np.mean(X_train, axis=0)\n",
        "    X_train -= mean_image\n",
        "    X_val -= mean_image\n",
        "    X_test -= mean_image\n",
        "\n",
        "    # Reshape data to rows\n",
        "    X_train = X_train.reshape(num_training, -1)\n",
        "    X_val = X_val.reshape(num_validation, -1)\n",
        "    X_test = X_test.reshape(num_test, -1)\n",
        "\n",
        "    return X_train, y_train, X_val, y_val, X_test, y_test\n",
        "\n",
        "\n",
        "# Invoke the above function to get our data.\n",
        "X_train, y_train, X_val, y_val, X_test, y_test = get_CIFAR10_data()\n",
        "print('Train data shape: ', X_train.shape)\n",
        "print('Train labels shape: ', y_train.shape)\n",
        "print('Validation data shape: ', X_val.shape)\n",
        "print('Validation labels shape: ', y_val.shape)\n",
        "print('Test data shape: ', X_test.shape)\n",
        "print('Test labels shape: ', y_test.shape)"
      ],
      "execution_count": 11,
      "outputs": [
        {
          "output_type": "stream",
          "text": [
            "Train data shape:  (49000, 3072)\n",
            "Train labels shape:  (49000,)\n",
            "Validation data shape:  (1000, 3072)\n",
            "Validation labels shape:  (1000,)\n",
            "Test data shape:  (1000, 3072)\n",
            "Test labels shape:  (1000,)\n"
          ],
          "name": "stdout"
        }
      ]
    },
    {
      "cell_type": "markdown",
      "metadata": {
        "id": "U2YB-xh5xfmJ"
      },
      "source": [
        "## SGD:"
      ]
    },
    {
      "cell_type": "code",
      "metadata": {
        "colab": {
          "base_uri": "https://localhost:8080/"
        },
        "id": "whbQ8R0fxkub",
        "outputId": "d46b3e83-e27e-413a-c95d-0c9be5d89eb7"
      },
      "source": [
        "input_size = 32 * 32 * 3\n",
        "hidden_size = 50\n",
        "num_classes = 10\n",
        "net = TwoLayerNet(input_size, hidden_size, num_classes)\n",
        "\n",
        "# Train the network\n",
        "stats = net.train(X_train, y_train, X_val, y_val,\n",
        "            num_iters=1000, batch_size=200,\n",
        "            learning_rate=1e-4, learning_rate_decay=0.95,\n",
        "            reg=0.25, verbose=True)\n",
        "\n",
        "# Predict on the validation set\n",
        "val_acc = (net.predict(X_val) == y_val).mean()\n",
        "print('Validation accuracy: ', val_acc)"
      ],
      "execution_count": 12,
      "outputs": [
        {
          "output_type": "stream",
          "text": [
            "iteration 0 / 1000: loss 2.302994\n",
            "iteration 100 / 1000: loss 2.302606\n",
            "iteration 200 / 1000: loss 2.298255\n",
            "iteration 300 / 1000: loss 2.264974\n",
            "iteration 400 / 1000: loss 2.220240\n",
            "iteration 500 / 1000: loss 2.128625\n",
            "iteration 600 / 1000: loss 2.091432\n",
            "iteration 700 / 1000: loss 2.043040\n",
            "iteration 800 / 1000: loss 2.065815\n",
            "iteration 900 / 1000: loss 1.934320\n",
            "Validation accuracy:  0.28\n"
          ],
          "name": "stdout"
        }
      ]
    },
    {
      "cell_type": "markdown",
      "metadata": {
        "id": "dJoAfGzLyNlt"
      },
      "source": [
        "By running SGD with some generic choice of parameters, we have achieved 28% accuracy. We now visualize what is happening:"
      ]
    },
    {
      "cell_type": "code",
      "metadata": {
        "colab": {
          "base_uri": "https://localhost:8080/",
          "height": 513
        },
        "id": "XlP09y2ZzrZn",
        "outputId": "b42f9148-4214-4b5a-a0d0-572920d1b147"
      },
      "source": [
        "# Plot the loss function and train / validation accuracies\n",
        "plt.subplot(2, 1, 1)\n",
        "plt.plot(stats['loss_history'])\n",
        "plt.title('Loss history')\n",
        "plt.xlabel('Iteration')\n",
        "plt.ylabel('Loss')\n",
        "\n",
        "plt.subplot(2, 1, 2)\n",
        "plt.plot(stats['train_acc_history'], label='train')\n",
        "plt.plot(stats['val_acc_history'], label='val')\n",
        "plt.title('Classification accuracy history')\n",
        "plt.xlabel('Epoch')\n",
        "plt.ylabel('Classification accuracy')\n",
        "plt.legend()\n",
        "plt.show()"
      ],
      "execution_count": 13,
      "outputs": [
        {
          "output_type": "display_data",
          "data": {
            "image/png": "[encoded data removed]",
            "text/plain": [
              "<Figure size 720x576 with 2 Axes>"
            ]
          },
          "metadata": {
            "tags": [],
            "needs_background": "light"
          }
        }
      ]
    },
    {
      "cell_type": "markdown",
      "metadata": {
        "id": "FU2E7t1LWDjY"
      },
      "source": [
        "# Hyperparameter tuning and cross-validation:\n",
        "\n",
        "Best validation accuracy ~ 50%"
      ]
    },
    {
      "cell_type": "code",
      "metadata": {
        "id": "tw-03-kN7yTd"
      },
      "source": [
        "best_net = None # store the best model into this \n",
        "best_acc = 0"
      ],
      "execution_count": null,
      "outputs": []
    },
    {
      "cell_type": "code",
      "metadata": {
        "colab": {
          "base_uri": "https://localhost:8080/"
        },
        "id": "SSEWR10f0Mm2",
        "outputId": "a3778c9c-72fa-45e9-a537-a9c6b56a5ccd"
      },
      "source": [
        "#################################################################################\n",
        "# we tune hyperparameters using the validation set. Store your best trained     #\n",
        "# model in best_net.                                                            #\n",
        "#################################################################################\n",
        "reg_arr = np.array([ 0.203,0.205, 0.207])\n",
        "learning_rate_arr = np.array([1.75e-3, 1.8e-3, 1.85e-3])\n",
        "\n",
        "#for cur_reg in reg_arr:\n",
        "#    for cur_lr in learning_rate_arr:\n",
        "for trial in range(20):         \n",
        "        cur_reg = np.random.uniform(0.205,0.208)\n",
        "        cur_lr  = np.random.uniform(.0015,0.0017)\n",
        "        cur_net = TwoLayerNet(input_size, hidden_size, num_classes)\n",
        "        \n",
        "        # Train the network\n",
        "        stats = cur_net.train(X_train, y_train, X_val, y_val,\n",
        "            num_iters=1400, batch_size=200,\n",
        "            learning_rate=cur_lr, learning_rate_decay=0.95,\n",
        "            reg=cur_reg, verbose=False)\n",
        "\n",
        "        # Predict on the validation set\n",
        "        cur_acc = (cur_net.predict(X_val) == y_val).mean()\n",
        "        #print('Validation accuracy: ', val_acc)\n",
        "        print(\"reg = \",cur_reg, \", learning rate = \", cur_lr, \", validation accuracy = \", cur_acc, sep=' ', end='.\\n')\n",
        "\n",
        "        if cur_acc > best_acc:\n",
        "            best_acc = cur_acc\n",
        "            best_net = cur_net\n",
        "\n"
      ],
      "execution_count": 35,
      "outputs": [
        {
          "output_type": "stream",
          "text": [
            "reg =  0.20730977184595417 , learning rate =  0.0016888801375983238 , validation accuracy =  0.476.\n",
            "reg =  0.20770490537238653 , learning rate =  0.0016009697107501474 , validation accuracy =  0.496.\n",
            "reg =  0.20781555138502325 , learning rate =  0.0015537667633472867 , validation accuracy =  0.472.\n",
            "reg =  0.20538859243238508 , learning rate =  0.0015545882229201042 , validation accuracy =  0.489.\n",
            "reg =  0.20554498369854318 , learning rate =  0.0016309496507142926 , validation accuracy =  0.479.\n",
            "reg =  0.20711922665183194 , learning rate =  0.0016208642682848235 , validation accuracy =  0.484.\n",
            "reg =  0.2056585742173319 , learning rate =  0.0015389459042731435 , validation accuracy =  0.489.\n",
            "reg =  0.20673486695049903 , learning rate =  0.0016255200935680393 , validation accuracy =  0.492.\n",
            "reg =  0.2070921015481313 , learning rate =  0.0016014052150187402 , validation accuracy =  0.469.\n",
            "reg =  0.2059721267385958 , learning rate =  0.0016461532652164868 , validation accuracy =  0.489.\n",
            "reg =  0.20559697616591316 , learning rate =  0.00165583397347332 , validation accuracy =  0.472.\n",
            "reg =  0.20747080294293002 , learning rate =  0.0015973127157987348 , validation accuracy =  0.488.\n",
            "reg =  0.20590437166183856 , learning rate =  0.0016456314228336683 , validation accuracy =  0.486.\n",
            "reg =  0.2073122262590467 , learning rate =  0.0015699215066042542 , validation accuracy =  0.479.\n",
            "reg =  0.2067315064320144 , learning rate =  0.0016859411345592238 , validation accuracy =  0.495.\n",
            "reg =  0.20535814211466918 , learning rate =  0.0015693572960233514 , validation accuracy =  0.489.\n",
            "reg =  0.20563559306363652 , learning rate =  0.0015704554448628587 , validation accuracy =  0.477.\n",
            "reg =  0.20693080337261638 , learning rate =  0.00152555221264869 , validation accuracy =  0.461.\n",
            "reg =  0.20683507539699167 , learning rate =  0.0015793591913591115 , validation accuracy =  0.486.\n",
            "reg =  0.2076581620509565 , learning rate =  0.0016033097934209262 , validation accuracy =  0.504.\n"
          ],
          "name": "stdout"
        }
      ]
    },
    {
      "cell_type": "code",
      "metadata": {
        "colab": {
          "base_uri": "https://localhost:8080/"
        },
        "id": "xlHuTq6712Je",
        "outputId": "d325a389-7872-40d4-a921-80818422a0d6"
      },
      "source": [
        "# Print your validation accuracy: this should be above 48%\n",
        "val_acc = (best_net.predict(X_val) == y_val).mean()\n",
        "print('Validation accuracy: ', val_acc)"
      ],
      "execution_count": 36,
      "outputs": [
        {
          "output_type": "stream",
          "text": [
            "Validation accuracy:  0.504\n"
          ],
          "name": "stdout"
        }
      ]
    },
    {
      "cell_type": "markdown",
      "metadata": {
        "id": "U1vYQBJ6DM2A"
      },
      "source": [
        "# Run on the test set:  Accuracy ~ 49%\n"
      ]
    },
    {
      "cell_type": "code",
      "metadata": {
        "id": "test_accuracy",
        "colab": {
          "base_uri": "https://localhost:8080/"
        },
        "outputId": "9251e53f-5d4d-4a7c-9428-dca081dee94c"
      },
      "source": [
        "# Print your test accuracy: this should be above 48%\n",
        "test_acc = (best_net.predict(X_test) == y_test).mean()\n",
        "print('Test accuracy: ', test_acc)"
      ],
      "execution_count": 37,
      "outputs": [
        {
          "output_type": "stream",
          "text": [
            "Test accuracy:  0.489\n"
          ],
          "name": "stdout"
        }
      ]
    },
    {
      "cell_type": "code",
      "metadata": {
        "colab": {
          "base_uri": "https://localhost:8080/"
        },
        "id": "rgnk4R7_CFpJ",
        "outputId": "c2c0c64b-2101-47a4-b3c9-3ab9470db0ba"
      },
      "source": [
        "train_acc = (best_net.predict(X_train) == y_train).mean()\n",
        "print('Train accuracy: ', train_acc)"
      ],
      "execution_count": 38,
      "outputs": [
        {
          "output_type": "stream",
          "text": [
            "Train accuracy:  0.5128979591836734\n"
          ],
          "name": "stdout"
        }
      ]
    }
  ]
}